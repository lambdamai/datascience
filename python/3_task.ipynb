{
 "cells": [
  {
   "cell_type": "markdown",
   "id": "657be689",
   "metadata": {},
   "source": [
    "# Самостоятельное задание #3\n",
    "\n",
    "\n",
    "### Задание 1\n",
    "\n",
    "Допишите функцию, которая принимает массив из 10 чисел и возвращает их сумму."
   ]
  },
  {
   "cell_type": "code",
   "execution_count": 2,
   "id": "18ffcbab",
   "metadata": {},
   "outputs": [
    {
     "name": "stdout",
     "output_type": "stream",
     "text": [
      "10\n"
     ]
    }
   ],
   "source": [
    "def func(mas):\n",
    "    return sum(mas)\n",
    "    pass"
   ]
  },
  {
   "cell_type": "markdown",
   "id": "eb78afc0",
   "metadata": {},
   "source": [
    "\n",
    "### Задание 2\n",
    "\n",
    "Допишите функцию, которая принимает массив чисел и возвращает количество чисел равных нулю."
   ]
  },
  {
   "cell_type": "code",
   "execution_count": null,
   "id": "7e8fe536",
   "metadata": {},
   "outputs": [],
   "source": [
    "def func(mas):\n",
    "    return mas.count(0)\n",
    "    pass"
   ]
  },
  {
   "cell_type": "markdown",
   "id": "570d5a26",
   "metadata": {},
   "source": [
    "\n",
    "### Задание 3\n",
    "\n",
    "Напишите программу, в которой задается  натуральное число n и выводится лестница из n ступенек, i-я ступенька должна состоять из чисел от 1 до i без пробелов."
   ]
  },
  {
   "cell_type": "code",
   "execution_count": 6,
   "id": "69fd0501",
   "metadata": {},
   "outputs": [
    {
     "name": "stdout",
     "output_type": "stream",
     "text": [
      "\n",
      "1\n",
      "12\n",
      "123\n",
      "1234\n"
     ]
    }
   ],
   "source": [
    "def func(n):\n",
    "    for i in range(n):\n",
    "        print(*[j for j in range(1,i+1)],sep = '')\n",
    "    pass\n",
    "\n",
    "func(int(input()))"
   ]
  },
  {
   "cell_type": "markdown",
   "id": "b6ef1c44",
   "metadata": {},
   "source": [
    "\n",
    "### Задание 4\n",
    "\n",
    "Напишите программу, в которой задается натуральное число n и выводится пирамида из n ступенек, i-я ступень должна состоять из чисел от 1 до i и обратно без пробелов."
   ]
  },
  {
   "cell_type": "code",
   "execution_count": 8,
   "id": "6b038f87",
   "metadata": {},
   "outputs": [
    {
     "name": "stdout",
     "output_type": "stream",
     "text": [
      "    1\n",
      "   121\n",
      "  12321\n",
      " 1234321\n"
     ]
    }
   ],
   "source": [
    "n = int(input())\n",
    "for i in range(1, n):\n",
    "    cur = [str(i) for i in range(1, (i + 1, 2*n-i + 1)[i > n])]\n",
    "    print(' ' * abs(n - i) + ''.join(cur) + ''.join(cur[-2::-1]))"
   ]
  },
  {
   "cell_type": "markdown",
   "id": "b4552ef5",
   "metadata": {},
   "source": [
    "\n",
    "### Задание 5\n",
    "\n",
    "Напишите программу, в которой задается натуральное число n и выводится ромб из `n*2-1` ступенек, i-я ступень должна состоять из чисел от 1 до i и обратно без пробелов."
   ]
  },
  {
   "cell_type": "code",
   "execution_count": 7,
   "id": "5eaae897",
   "metadata": {},
   "outputs": [
    {
     "name": "stdout",
     "output_type": "stream",
     "text": [
      "    1\n",
      "   121\n",
      "  12321\n",
      " 1234321\n",
      "123454321\n",
      " 1234321\n",
      "  12321\n",
      "   121\n",
      "    1\n"
     ]
    }
   ],
   "source": [
    "n = int(input())\n",
    "for i in range(1, n * 2):\n",
    "    cur = [str(i) for i in range(1, (i + 1, 2*n-i + 1)[i > n])]\n",
    "    print(' ' * abs(n - i) + ''.join(cur) + ''.join(cur[-2::-1]))"
   ]
  }
 ],
 "metadata": {
  "kernelspec": {
   "display_name": "Python 3.9.6 64-bit",
   "language": "python",
   "name": "python3"
  },
  "language_info": {
   "codemirror_mode": {
    "name": "ipython",
    "version": 3
   },
   "file_extension": ".py",
   "mimetype": "text/x-python",
   "name": "python",
   "nbconvert_exporter": "python",
   "pygments_lexer": "ipython3",
   "version": "3.9.6"
  },
  "vscode": {
   "interpreter": {
    "hash": "8ec0353397fcf208be67023df481b90f3eb2731dbf9f444ef1303a0e1b79c657"
   }
  }
 },
 "nbformat": 4,
 "nbformat_minor": 5
}
