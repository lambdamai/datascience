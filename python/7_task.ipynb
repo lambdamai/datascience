{
 "cells": [
  {
   "cell_type": "markdown",
   "id": "d89e88d8",
   "metadata": {},
   "source": [
    "# Самостоятельное задание #7\n",
    "\n",
    "\n",
    "### Задание 1\n",
    "\n",
    "Допишите функцию, которая принимает список чисел и, с помощью множеств, определяет количество различных чисел внутри списка."
   ]
  },
  {
   "cell_type": "code",
   "execution_count": 1,
   "id": "1b443f02",
   "metadata": {},
   "outputs": [],
   "source": [
    "def diff(numbers: list) -> int:\n",
    "    \"\"\"\n",
    "    Количество различных чисел\n",
    "\n",
    "    Args:\n",
    "        numbers: список чисел\n",
    "\n",
    "    Returns:\n",
    "        int: количество различных чисел списка numbers\n",
    "    \"\"\"\n",
    "    # Начните писать код тут"
   ]
  },
  {
   "cell_type": "markdown",
   "id": "89118666",
   "metadata": {},
   "source": [
    "### Задание 2\n",
    "\n",
    "Допишите функцию, которая принимает несколько списков чисел и, с помощью множеств, определяет количество общих чисел из первого и второго списка."
   ]
  },
  {
   "cell_type": "code",
   "execution_count": null,
   "id": "9ad5e3fd",
   "metadata": {},
   "outputs": [],
   "source": [
    "def intersection(first: list, second: list) -> int:\n",
    "    \"\"\"\n",
    "    Количество общих чисел\n",
    "    Args:\n",
    "        first: первый список\n",
    "        second: второй список\n",
    "\n",
    "    Returns:\n",
    "        int: количество общих элементов данных списков\n",
    "    \"\"\"\n",
    "# Начните писать код тут"
   ]
  }
 ],
 "metadata": {
  "kernelspec": {
   "display_name": "Python 3",
   "language": "python",
   "name": "python3"
  },
  "language_info": {
   "codemirror_mode": {
    "name": "ipython",
    "version": 3
   },
   "file_extension": ".py",
   "mimetype": "text/x-python",
   "name": "python",
   "nbconvert_exporter": "python",
   "pygments_lexer": "ipython3",
   "version": "3.9.7"
  }
 },
 "nbformat": 4,
 "nbformat_minor": 5
}