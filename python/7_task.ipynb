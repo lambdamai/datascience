{
 "cells": [
  {
   "cell_type": "markdown",
   "id": "d89e88d8",
   "metadata": {},
   "source": [
    "# Самостоятельное задание #7\n",
    "\n",
    "\n",
    "### Задание 1\n",
    "\n",
    "Допишите функцию, которая принимает список чисел и, с помощью множеств, определяет количество различных чисел внутри списка."
   ]
  },
  {
   "cell_type": "code",
   "execution_count": 1,
   "id": "1b443f02",
   "metadata": {},
   "outputs": [],
   "source": [
    "def func(lst):\n",
    "    return (len(set(lst)))\n",
    "    pass"
   ]
  },
  {
   "cell_type": "markdown",
   "id": "89118666",
   "metadata": {},
   "source": [
    "### Задание 2\n",
    "\n",
    "Допишите функцию, которая принимает несколько списков чисел и, с помощью множеств, определяет количество общих чисел из первого и второго списка."
   ]
  },
  {
   "cell_type": "code",
   "execution_count": 1,
   "id": "9ad5e3fd",
   "metadata": {},
   "outputs": [],
   "source": [
    "def func(mas1,mas2):\n",
    "    return len(set(mas1) & set(mas2))\n"
   ]
  }
 ],
 "metadata": {
  "kernelspec": {
   "display_name": "Python 3.9.6 64-bit",
   "language": "python",
   "name": "python3"
  },
  "language_info": {
   "codemirror_mode": {
    "name": "ipython",
    "version": 3
   },
   "file_extension": ".py",
   "mimetype": "text/x-python",
   "name": "python",
   "nbconvert_exporter": "python",
   "pygments_lexer": "ipython3",
   "version": "3.9.6"
  },
  "vscode": {
   "interpreter": {
    "hash": "8ec0353397fcf208be67023df481b90f3eb2731dbf9f444ef1303a0e1b79c657"
   }
  }
 },
 "nbformat": 4,
 "nbformat_minor": 5
}
