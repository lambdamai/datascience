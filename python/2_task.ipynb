{
 "cells": [
  {
   "cell_type": "markdown",
   "id": "246424fe",
   "metadata": {},
   "source": [
    "# Самостоятельная работа #2\n",
    "### Задание 1\n",
    "\n",
    "Допишите функцию, которая принимает 2 числа, сравнивает между собой и возвращает наименьшее.\n"
   ]
  },
  {
   "cell_type": "code",
   "execution_count": null,
   "id": "1b225d18",
   "metadata": {},
   "outputs": [],
   "source": [
    "def min_dual(first: float, second: float) -> float:\n",
    "    \"\"\"\n",
    "    Наименьшее из двух\n",
    "\n",
    "    Args:\n",
    "        first (float): первое число\n",
    "        second (float): второе число\n",
    "\n",
    "    Returns:\n",
    "        float: меньшее из двух данных\n",
    "    \"\"\"\n",
    "    # Начните писать код тут"
   ]
  },
  {
   "cell_type": "markdown",
   "id": "9342d85f",
   "metadata": {},
   "source": [
    "### Задание 2\n",
    "\n",
    "Допишите функцию, которая принимает 3 числа, сравнивает между собой и возвращает наименьшее."
   ]
  },
  {
   "cell_type": "code",
   "execution_count": null,
   "id": "5371aa95",
   "metadata": {},
   "outputs": [],
   "source": [
    "def min_triple(first: float, second: float, third: float) -> float:\n",
    "    \"\"\"\n",
    "    Наименьшее из трех\n",
    "\n",
    "    Args:\n",
    "        first (float): первое число\n",
    "        second (float): второе число\n",
    "        third (float): третье число\n",
    "\n",
    "    Returns:\n",
    "        float: наименьшее из трех данных\n",
    "    \"\"\"\n",
    "    # Начните писать код тут"
   ]
  },
  {
   "cell_type": "markdown",
   "id": "9ef85dfd",
   "metadata": {},
   "source": [
    "### Задание 2\n",
    "\n",
    "Допишите функцию, которая принимает 3 числа, сравнивает между собой и возвращает количество совпадающих чисел. Соответственно, программа может возвращать одно из трех чисел: 3 - если совпадают все, 2 - если совпадают 2 числа, 0 - если все числа различны."
   ]
  },
  {
   "cell_type": "code",
   "execution_count": null,
   "id": "ec6a169c",
   "metadata": {},
   "outputs": [],
   "source": [
    "def eq_count(first: float, second: float, third: float) -> int:\n",
    "    \"\"\"\n",
    "    Количество совпадающих чисел. Соответственно, функция может возвращать одно из трех чисел:\n",
    "    3 - если совпадают все,\n",
    "    2 - если совпадают 2 числа,\n",
    "    0 - если все числа различны.\n",
    "\n",
    "    Args:\n",
    "        first (float): первое число\n",
    "        second (float): второе число\n",
    "        third (float): третье число\n",
    "\n",
    "    Returns:\n",
    "        int: количество совпадающих чисел\n",
    "    \"\"\"\n",
    "    # Начните писать код тут"
   ]
  }
 ],
 "metadata": {
  "kernelspec": {
   "display_name": "Python 3",
   "language": "python",
   "name": "python3"
  },
  "language_info": {
   "codemirror_mode": {
    "name": "ipython",
    "version": 3
   },
   "file_extension": ".py",
   "mimetype": "text/x-python",
   "name": "python",
   "nbconvert_exporter": "python",
   "pygments_lexer": "ipython3",
   "version": "3.9.6"
  }
 },
 "nbformat": 4,
 "nbformat_minor": 5
}