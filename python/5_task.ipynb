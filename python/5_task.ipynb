{
 "cells": [
  {
   "cell_type": "markdown",
   "id": "85755de8",
   "metadata": {},
   "source": [
    "# Самостоятельное задание #5\n",
    "\n",
    "\n",
    "### Задание 1\n",
    "\n",
    "Допишите функцию, которая принимает список, выбирает из него все элементы с четным индексом и возвращает их в виде списка."
   ]
  },
  {
   "cell_type": "code",
   "execution_count": 3,
   "id": "6ef6d9b3",
   "metadata": {},
   "outputs": [
    {
     "name": "stdout",
     "output_type": "stream",
     "text": [
      "['1', '3', '5', '7']\n"
     ]
    }
   ],
   "source": [
    "def func(mas):\n",
    "    return [i for i in mas[::2]]\n",
    "    pass\n",
    "\n",
    "print(func(input().split()))"
   ]
  },
  {
   "cell_type": "markdown",
   "id": "443974c9",
   "metadata": {},
   "source": [
    "### Задание 2\n",
    "\n",
    "Допишите функцию, которая принимает список, выбирает из него все элементы, которые больше предыдущего и возвращает их в виде списка.\n"
   ]
  },
  {
   "cell_type": "code",
   "execution_count": 6,
   "id": "3a8cf925",
   "metadata": {},
   "outputs": [
    {
     "name": "stdout",
     "output_type": "stream",
     "text": [
      "['6', '7']\n"
     ]
    }
   ],
   "source": [
    "def func(mas):\n",
    "    res = []\n",
    "    for i in range(1,len(mas)):\n",
    "        if mas[i] > mas[i-1]:\n",
    "            res.append(mas[i])\n",
    "    return res\n",
    "    pass\n",
    "\n",
    "print(func(input().split()))"
   ]
  },
  {
   "cell_type": "markdown",
   "id": "34524ede",
   "metadata": {},
   "source": [
    "### Задание 3\n",
    "\n",
    "Допишите функцию, которая принимает список, меняет местами наибольший и наименьший элементы и возвращает этот список."
   ]
  },
  {
   "cell_type": "code",
   "execution_count": 7,
   "id": "34d2beae",
   "metadata": {},
   "outputs": [
    {
     "name": "stdout",
     "output_type": "stream",
     "text": [
      "['8', '2', '3', '4', '5', '1']\n"
     ]
    }
   ],
   "source": [
    "def func(mas):\n",
    "    mas[mas.index(max(mas))],mas[mas.index(min(mas))] = mas[mas.index(min(mas))] ,mas[mas.index(max(mas))]\n",
    "    return mas\n",
    "    pass\n",
    "\n",
    "print(func(input().split()))"
   ]
  }
 ],
 "metadata": {
  "kernelspec": {
   "display_name": "Python 3.9.6 64-bit",
   "language": "python",
   "name": "python3"
  },
  "language_info": {
   "codemirror_mode": {
    "name": "ipython",
    "version": 3
   },
   "file_extension": ".py",
   "mimetype": "text/x-python",
   "name": "python",
   "nbconvert_exporter": "python",
   "pygments_lexer": "ipython3",
   "version": "3.9.6"
  },
  "vscode": {
   "interpreter": {
    "hash": "8ec0353397fcf208be67023df481b90f3eb2731dbf9f444ef1303a0e1b79c657"
   }
  }
 },
 "nbformat": 4,
 "nbformat_minor": 5
}
