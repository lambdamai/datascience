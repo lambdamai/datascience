{
 "cells": [
  {
   "cell_type": "code",
   "execution_count": null,
   "outputs": [],
   "source": [
    "import typing as ty"
   ],
   "metadata": {
    "collapsed": false,
    "pycharm": {
     "name": "#%%\n"
    }
   }
  },
  {
   "cell_type": "markdown",
   "id": "85755de8",
   "metadata": {},
   "source": [
    "# Самостоятельное задание #5\n",
    "\n",
    "\n",
    "### Задание 1\n",
    "\n",
    "Допишите функцию, которая принимает список, выбирает из него все элементы с четным индексом и возвращает их в виде списка."
   ]
  },
  {
   "cell_type": "code",
   "execution_count": 1,
   "id": "6ef6d9b3",
   "metadata": {},
   "outputs": [],
   "source": [
    "def even_idx(data: list) -> list:\n",
    "    \"\"\"\n",
    "    Args:\n",
    "        data: список элементов\n",
    "\n",
    "    Returns:\n",
    "        list: список элементов с четными индексами\n",
    "    \"\"\"\n",
    "    # Начните писать код тут"
   ]
  },
  {
   "cell_type": "markdown",
   "id": "443974c9",
   "metadata": {},
   "source": [
    "### Задание 2\n",
    "\n",
    "Допишите функцию, которая принимает список, выбирает из него все элементы, которые больше предыдущего и возвращает их в виде списка.\n"
   ]
  },
  {
   "cell_type": "code",
   "execution_count": 2,
   "id": "3a8cf925",
   "metadata": {},
   "outputs": [],
   "source": [
    "def increasing(data: ty.List[int]) -> ty.List[int]:\n",
    "    \"\"\"\n",
    "    Args:\n",
    "        data: список чисел\n",
    "\n",
    "    Returns:\n",
    "        list: список элементов, которые больше предыдущего\n",
    "    \"\"\"\n",
    "    # Начните писать код тут"
   ]
  },
  {
   "cell_type": "markdown",
   "id": "34524ede",
   "metadata": {},
   "source": [
    "### Задание 3\n",
    "\n",
    "Допишите функцию, которая принимает список, меняет местами наибольший и наименьший элементы и возвращает этот список."
   ]
  },
  {
   "cell_type": "code",
   "execution_count": 3,
   "id": "34d2beae",
   "metadata": {},
   "outputs": [],
   "source": [
    "def swap(data: ty.List[int]) -> ty.List[int]:\n",
    "    \"\"\"\n",
    "    Меняет местами наибольший и наименьший элементы\n",
    "\n",
    "    Args:\n",
    "        data: список элементов\n",
    "\n",
    "    Returns:\n",
    "        list: список элементов, наибольший и наименьший элементы поменяны местами\n",
    "    \"\"\"\n",
    "    # Начните писать код тут"
   ]
  }
 ],
 "metadata": {
  "kernelspec": {
   "display_name": "Python 3",
   "language": "python",
   "name": "python3"
  },
  "language_info": {
   "codemirror_mode": {
    "name": "ipython",
    "version": 3
   },
   "file_extension": ".py",
   "mimetype": "text/x-python",
   "name": "python",
   "nbconvert_exporter": "python",
   "pygments_lexer": "ipython3",
   "version": "3.9.7"
  }
 },
 "nbformat": 4,
 "nbformat_minor": 5
}